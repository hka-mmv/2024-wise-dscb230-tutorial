{
 "cells": [
  {
   "cell_type": "markdown",
   "metadata": {},
   "source": [
    "# Netzwerkprotokolle"
   ]
  },
  {
   "cell_type": "markdown",
   "metadata": {},
   "source": [
    "## Vorab\n",
    "1. Es wird allgemein empfohlen, dass Sie eine Ordnerstruktur für Ihr Studium anlegen. Bitte legen Sie auch einen Ordner für Ihre Tutorien an.\n",
    "\n",
    "2. Die Mac- und Linux-User öffnen ihren Terminal und die Windows-User ihr CMD (aka. Eingabeaufforderung). Navigieren Sie zunächst mit dem Befehl `cd <path>` in das Verzeichnis, für diese Veranstaltung."
   ]
  },
  {
   "cell_type": "markdown",
   "metadata": {},
   "source": [
    "## Serveranfragen ohne Browser\n",
    "\n",
    "**(1)** Machen Sie sich mit dem Befehl `curl [options] <url>` vertraut\n",
    "\n",
    "**(1.1)** Sie kennen den Befehl `curl -v <url>`. Führen Sie den Befehl der Live-Demo aus der Vorlesung selbst aus und identifizieren Sie aus der Antwort den Header."
   ]
  },
  {
   "cell_type": "markdown",
   "metadata": {},
   "source": [
    "### Ihre Antwort\n",
    "\n"
   ]
  },
  {
   "cell_type": "markdown",
   "metadata": {},
   "source": [
    "**(1.2)** Nutzen Sie den Befehl `curl --help` und machen Sie sich mit den Optionen vertraut. Finden Sie heraus, warum `curl -v <url>` in **(1.1)** auch den `<body>...</body>` zurückgegeben hat und erklären Sie. Wie müsste der Befehl lauten, wenn Sie sich lediglich für den Header interessieren würden?"
   ]
  },
  {
   "cell_type": "markdown",
   "metadata": {},
   "source": [
    "### Ihre Antwort\n",
    "\n"
   ]
  },
  {
   "cell_type": "markdown",
   "metadata": {},
   "source": [
    "**(1.3.1)** Formulieren Sie eine einfache HTTP-GET-Anfrage, um die Startseite der Hochschule Karlsruhe abzurufen (https://www.h-ka.de/). Lassen Sie sich den Quelltext der Seite ausgeben und speichern ihn in einer Datei namens `hka.html`. Wie lautet der Befehl, mit dem Sie die Datei gespeichert haben?\n",
    "\n",
    "**(1.3.2)** Überprüfen Sie den Speicherort der eben erzeugten Datei und vollziehen Sie nach, warum die Datei bei genau diesem Pfad gespeichert wurde. Diese Aufgabe ist lediglich als Denkaufgabe gedacht und bedarf keiner Antwort."
   ]
  },
  {
   "cell_type": "markdown",
   "metadata": {},
   "source": [
    "### Ihre Antwort zu **(1.3.1)**\n",
    "\n"
   ]
  },
  {
   "cell_type": "markdown",
   "metadata": {},
   "source": [
    "**(1.4)** Sie wissen, wie Sie einen HTTP-Header ausgeben können. Anstatt diesen auszugeben, speichern Sie diesen nun in einer Datei namens `header.txt`. Führen Sie den Befehl für https://www.h-ka.de durch. Wie lautet der Befehl?\n",
    "\n",
    "_Tipp: Dieser Befehl verwendet zwei Optionen. Überlegen Sie, wie ein Befehl aussehen könnte, den man folgendermaßen ausdrücken könnte: \"Rufe die URL https://www.h-ka.de ab, bringe mir den HTTP-Header und speichere diesen in einer Datei mit Namen '`header.txt`' \"._"
   ]
  },
  {
   "cell_type": "markdown",
   "metadata": {},
   "source": [
    "### Ihre Antwort\n",
    "\n"
   ]
  },
  {
   "cell_type": "markdown",
   "metadata": {},
   "source": [
    "**(1.5.1)** Sie kennen das zentrale Kommando `GET`. Führen Sie den Befehl `curl --help all` aus und betrachten die Optionen `-X` und `-H`. Überlegen Sie zunächst, wie Sie `GET` und `-X` miteinander verwenden könnten.\n",
    "\n",
    "**(1.5.2)** Führen Sie einen API Call durch, indem Sie Ihre Überlegung mit \"https://intranet.hka-iwi.de/REST/canteen/v2/2/2024-10-18\" umsetzen.\n",
    "\n",
    "**(1.5.3)** Ergänzen Sie den Befehl aus **(1.5.2)**, sodass Sie in Ihrer Anfrage einen Header übermitteln, der dem Server mittleilt, dass Sie die Antwort im JSON-Format erhalten. Recherchieren Sie ggf. im Internet. Wie lautet Ihr finaler Befehl?"
   ]
  },
  {
   "cell_type": "markdown",
   "metadata": {},
   "source": [
    "### Ihre Antwort\n",
    "\n"
   ]
  }
 ],
 "metadata": {
  "language_info": {
   "name": "python"
  }
 },
 "nbformat": 4,
 "nbformat_minor": 2
}
