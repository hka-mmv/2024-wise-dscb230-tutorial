{
 "cells": [
  {
   "cell_type": "markdown",
   "metadata": {},
   "source": [
    "# Dateiverarbeitung"
   ]
  },
  {
   "cell_type": "markdown",
   "metadata": {},
   "source": [
    "**1.** Sie möchten analysieren, welche Künstler an Ihrer Hochschule am häufigsten gehört werden und jedem jeweils ein Genre zuordnen. Dazu führen Sie eine Umfrage bei einer Stichprobe mit eienem Umfang von 200 Studenten durch und bilden die Top 3 in folgender Tabelle ab.\n",
    "\n",
    "| Künstler | Anzahl Nennungen | Genre |\n",
    "|-|-|-|\n",
    "| Rammstein | 59 | Neue deutsche Härte |\n",
    "| Taylor Swift | 44 | Pop |\n",
    "| Eminem | 66 | Rap |\n",
    "\n",
    "(fiktiver Datensatz)$\\\\\\\\$\n",
    "\n",
    "Um die Daten später auswerten zu können, wäre es sinnvoll, sie in einem Format zu speichern, mit dem Sie möglichst unkompliziert in Python arbeiten können.\n",
    "\n",
    "**(1.1)** Überlegen Sie zunächst, welche Datenstrukturen Sie kennen und überführen Sie die Tabelle in eine Datenstruktur, die Sie für diesen Fall als angemessen empfinden. Begründen Sie zusätzlich kurz (1 bis 2 Sätze), wie Sie auf Ihre Wahl gekommen sind."
   ]
  },
  {
   "cell_type": "code",
   "execution_count": null,
   "metadata": {},
   "outputs": [],
   "source": [
    "# Programmieren Sie hier"
   ]
  },
  {
   "cell_type": "markdown",
   "metadata": {},
   "source": [
    "### Begründung\n",
    "\n"
   ]
  },
  {
   "cell_type": "markdown",
   "metadata": {},
   "source": [
    "**(1.2)** Machen Sie sich mit der von Ihnen befüllten Datenstruktur vertraut: Lassen Sie sich Daten ausgeben, wie \"Genre von Künstler [...]\"; \"Künstler wurde [...]-Mal genannt\", etc."
   ]
  },
  {
   "cell_type": "code",
   "execution_count": null,
   "metadata": {},
   "outputs": [],
   "source": [
    "# Programmieren Sie hier"
   ]
  },
  {
   "cell_type": "markdown",
   "metadata": {},
   "source": [
    "**(1.3)** Speichern Sie nun Ihre Datenstruktur in einer Datei mit geeignetem Dateiformat."
   ]
  },
  {
   "cell_type": "code",
   "execution_count": null,
   "metadata": {},
   "outputs": [],
   "source": [
    "# Programmieren Sie hier"
   ]
  },
  {
   "cell_type": "markdown",
   "metadata": {},
   "source": [
    "**(1.4)** Laden Sie nun die von Ihnen erzeugte Datei in dieses Notebook. Der Vorgang dabei ist derselbe, wie bei einem normalen Python-Skript. Lassen Sie sich den Inhalt der Datei ausgeben."
   ]
  },
  {
   "cell_type": "code",
   "execution_count": null,
   "metadata": {},
   "outputs": [],
   "source": [
    "# Programmieren Sie hier"
   ]
  },
  {
   "cell_type": "markdown",
   "metadata": {},
   "source": [
    "**(1.5, fortgeschritten, a)** Betrachten Sie die Spalten der Tabelle ganz oben und deren Inhalte. Der Inhalt von einer dieser Spalten ließe sich theoretisch noch verändern. Überlegen Sie, welche Spalte dies sein könnte und erklären und begründen Sie Ihre Annahmen. Versuchen Sie zunächst die Inhalte Ihrer vorhin befüllten Datenstruktur, dann die Ihrer vorhin erzeugten Datei entsprechend zu verändern."
   ]
  },
  {
   "cell_type": "markdown",
   "metadata": {},
   "source": [
    "### Ihre Antwort\n",
    "\n"
   ]
  },
  {
   "cell_type": "code",
   "execution_count": null,
   "metadata": {},
   "outputs": [],
   "source": [
    "# Programmieren Sie hier"
   ]
  },
  {
   "cell_type": "markdown",
   "metadata": {},
   "source": [
    "**(1.5, fortgeschritten, b)** Überlegen Sie auch, welche Spalten man der Tabelle ganz oben noch hinzufügen könnte, fügen Sie diese dann Ihrer vorhin erzeugten Datei hinzu und befüllen Sie diese anschließend. Sie dürfen auch Inhalte erfinden, sie sollten dennoch im Sachzusammenhang einen Sinn ergeben."
   ]
  },
  {
   "cell_type": "code",
   "execution_count": null,
   "metadata": {},
   "outputs": [],
   "source": [
    "# Programmieren Sie hier"
   ]
  },
  {
   "cell_type": "markdown",
   "metadata": {},
   "source": [
    "**2.** In dem Notebook [DSCB230 Tutorium - Netzwerkprotokolle](DSCB230%20Tutorium%20-%20Netzwerkprotokolle.ipynb) gab es die Aufgabe, einen API-Call durchzuführen. Nun werden Sie Ihr Wissen in Python anwenden.\n",
    "\n",
    "**(2.1)** Kopieren Sie zunächst die Reponse Ihres API-Calls, legen Sie eine neue JSON-Datei in demselben Verzeichnis, wo sich dieses Notebook befindet, an und fügen Sie die Response darin ein.\n",
    "\n",
    "**(2.2)** Nun zum Coding. Verwenden Sie das Modul `json`. Nutzen Sie Ihr Wissen aus den Vorlesungen, um die JSON-Datei, die Sie eben erzeugt haben, zu lesen und geben Sie anschließend den Inhalt der Datei aus.\n",
    "\n",
    "**(2.3)** Nutzen Sie das `json`-Modul, um die Response in eine lesbarere Form zu bringen und updaten Sie die JSON-Datei."
   ]
  },
  {
   "cell_type": "code",
   "execution_count": null,
   "metadata": {},
   "outputs": [],
   "source": [
    "# Programmieren Sie hier"
   ]
  },
  {
   "cell_type": "markdown",
   "metadata": {},
   "source": [
    "**3. (fortgeschritten)** Eine etwas anspruchsvollere Aufgabe, bei der Sie gezielte Elemente aus einer Website lokal speichern werden.\n",
    "\n",
    "**(3.1)** Formulieren Sie mit der bereits importierten Methode einen Befehl, der es Ihnen ermöglicht, den HTML-Body von der Website https://intranet.hka-iwi.de/iwii/REST/rssfeed/newsbulletinboard/INFB zu erhalten. Speichern Sie das Resultat in einer Variable.\n",
    "\n",
    "**(3.2)** Extrahieren Sie aus Ihrer eben erzeugten Variable die Überschriften und das jeweilige Datum aus dem Feed und speichern Sie diese in einer JSON-Datei."
   ]
  },
  {
   "cell_type": "code",
   "execution_count": null,
   "metadata": {},
   "outputs": [],
   "source": [
    "from subprocess import getoutput\n",
    "\n",
    "# Programmieren Sie hier"
   ]
  }
 ],
 "metadata": {
  "kernelspec": {
   "display_name": "Python 3",
   "language": "python",
   "name": "python3"
  },
  "language_info": {
   "codemirror_mode": {
    "name": "ipython",
    "version": 3
   },
   "file_extension": ".py",
   "mimetype": "text/x-python",
   "name": "python",
   "nbconvert_exporter": "python",
   "pygments_lexer": "ipython3",
   "version": "3.12.3"
  }
 },
 "nbformat": 4,
 "nbformat_minor": 2
}
